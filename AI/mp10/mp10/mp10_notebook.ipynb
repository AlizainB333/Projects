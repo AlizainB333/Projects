{
 "cells": [
  {
   "cell_type": "markdown",
   "metadata": {},
   "source": [
    "# CS440/ECE448 Spring 2024\n",
    "# MP10: Markov decision processes"
   ]
  },
  {
   "cell_type": "markdown",
   "metadata": {},
   "source": [
    "The first thing you need to do is to download this file: <a href=\"mp10.zip\">mp10.zip</a>.  It has the following content:\n",
    "\n",
    "* `submitted.py`: Your homework. Edit, and then submit to <a href=\"https://www.gradescope.com/courses/701752\">Gradescope</a>.\n",
    "* `mp10_notebook.ipynb`: This is a <a href=\"https://anaconda.org/anaconda/jupyter\">Jupyter</a> notebook to help you debug.  You can completely ignore it if you want, although you might find that it gives you useful instructions.\n",
    "* `grade.py`: Once your homework seems to be working, you can test it by typing `python grade.py`, which will run the tests in `tests/tests_visible.py`.\n",
    "* `tests/test_visible.py`: This file contains about half of the <a href=\"https://docs.python.org/3/library/unittest.html\">unit tests</a> that Gradescope will run in order to grade your homework.  If you can get a perfect score on these tests, then you should also get a perfect score on the additional hidden tests that Gradescope uses.\n",
    "* `solution.json`: This file contains the solutions for the visible test cases, in <a href=\"https://docs.python.org/3/library/json.html\">JSON</a> format.  If the instructions are confusing you, please look at this file, to see if it can help to clear up your confusion.\n",
    "* `models`: This directory contains two MDP models. Especially, `models/model_small.json` is exactly the same as the one presented in the slides. \n",
    "* `utils.py`: This is an auxiliary program that you can use to load the model and visualize it.\n",
    "\n",
    "Please note that there is no extra packages that you should be using except for NumPy. (**Using exsiting MDP libraries would result in score 0!**)"
   ]
  },
  {
   "cell_type": "markdown",
   "metadata": {},
   "source": [
    "This file (`mp10_notebook.ipynb`) will walk you through the whole MP, giving you instructions and debugging tips as you go.\n",
    "\n",
    "### Table of Contents\n",
    "\n",
    "1. <a href=\"#section1\">The MDP environment</a>\n",
    "1. <a href=\"#section2\">Value iteration</a>\n",
    "1. <a href=\"#grade\">Grade Your Homework</a>\n"
   ]
  },
  {
   "cell_type": "markdown",
   "metadata": {},
   "source": [
    "<a id='section1'></a>\n",
    "## The MDP environment\n",
    "In this MP, you will implement the value iteration algorithm introduced in the class. The MDPs you will work on are similar to the grid world example mentioned in the class, but with __state-dependent transition and reward model__.\n",
    "\n",
    "### Loading the MDP model\n",
    "Helper functions are provided in ```utils.py```. Two predefined MDP models are given in ```models```. Please note that ```models/small.json``` defines exactly the same MDP model presented in the lecture, and you can use the intermediate results in the slides to debug your implementation. With function ```load_MDP(filename)```, you can load a MDP model as follows."
   ]
  },
  {
   "cell_type": "code",
   "execution_count": 2,
   "metadata": {},
   "outputs": [],
   "source": [
    "import utils\n",
    "model = utils.load_MDP('models/model_small.json')\n",
    "### To load the other one, uncomment the following\n",
    "# model = utils.load_MDP('models/model_large.json')"
   ]
  },
  {
   "cell_type": "markdown",
   "metadata": {},
   "source": [
    "The loaded model ```model``` fully defines the MDP model as follows."
   ]
  },
  {
   "cell_type": "code",
   "execution_count": 16,
   "metadata": {},
   "outputs": [
    {
     "name": "stdout",
     "output_type": "stream",
     "text": [
      "3 4\n",
      "1.0\n",
      "(3, 4)\n",
      "(3, 4)\n",
      "(3, 4)\n",
      "(3, 4, 3)\n",
      "(3, 4, 3, 4)\n",
      "\n",
      "#################\n",
      "\n",
      "Help on method visualize in module utils:\n",
      "\n",
      "visualize(U=None) method of utils.GridWorld instance\n",
      "    This function visualizes the shape, the wall, and the terminal states of the environment. If a utility function U is provided, then it visualizes the utility function instead.\n",
      "\n",
      "[[False False False  True]\n",
      " [False False False  True]\n",
      " [False False False False]]\n"
     ]
    }
   ],
   "source": [
    "print(model.M, model.N)\n",
    "print(model.gamma)\n",
    "print(model.W.shape)\n",
    "print(model.TS.shape)\n",
    "print(model.R.shape)\n",
    "print(model.D.shape)\n",
    "print(model.FP.shape)\n",
    "print('\\n#################\\n')\n",
    "help(model.visualize)\n",
    "\n"
   ]
  },
  {
   "cell_type": "markdown",
   "metadata": {},
   "source": [
    "Now, we explain the elements of the loaded model.\n",
    "\n",
    "### The states\n",
    "Simillar to the grid world presented in the class, the environment is a grid world with $M \\times N$ cells. $M$ and $N$ are accessible via ```model.M``` and ```model.N```. In the following, cell $(r, c)$ refers to the cell at the $r$-th row and $c$-th column. Each cell represents a state of the MDP.\n",
    "\n",
    "### The wall\n",
    "The $M \\times N$ boolean matrix ```model.W``` defines the wall in the environment. If ```model.W[r, c] == True```, then the cell $(r, c)$ is occupied by the wall.\n",
    "\n",
    "### The rewards\n",
    "The $M \\times N$ boolean matrix ```model.TS``` defines the terminal states. ```model.TS[r, c] == True``` if the cell $(r, c)$ is a _terminal state_, and ```TS[r, c] == False``` otherwise.\n",
    "\n",
    "The $M \\times N$ matrix ```model.R``` defines the rewards. ```model.R[r, c]``` is the reward that the agent can get if it reaches the cell $(r, c)$. For terminal states, the reward will be either $+1$ or $-1$. For non-terminal states, the reward will be a small negative number.\n",
    "\n",
    "Furthermore, ```model.gamma``` is the discount factor $\\gamma$ you should use when computing the dicounted reward.\n",
    "\n",
    "### The actions\n",
    "At each non-terminal cell $(r, c)$, there are four available actions for the agent: move __left__, __up__, __right__, or __down__. However, due to environmental disturbances, the agent cannot always move as intended. Instead, an $M \\times N \\times 3$ numpy array is provided to define the movement and can be accessed as ```model.D```. Specifically, the actual movement of the agent will be along the intended direction with probability ```model.D[r, c, 0]```, and will be at the right angles to the intended direction with probability ```model.D[r, c, 1]``` (counter-clockwise) $+$ ```model.D[r, c, 2]``` (clockwise). It is guaranteed that the summation of these three probabilites is one. The next state of the agent will be the next cell along the actual moving direction. However, if the actual movement of the agent results in a collision with the boundary of environment or the wall, the agent will stay in the current cell.\n",
    "\n",
    "### The fixed transition matrix\n",
    "For the extra credit section, we will use this fixed transition matrix, denoted as `model.FP`. It represents the fixed transition probabilities associated with a given policy. The `model.FP` is an $M \\times N \\times M \\times N$ matrix that specifies the probability of transitioning from any cell $(r, c)$ to any other cell $(r', c')$ given the current policy. The value `model.FP[r, c, r', c']` represents the likelihood of moving from cell $(r, c)$ to cell $(r', c')$  under the fixed policy. This matrix is used to compute the expected utility of each state when the policy is kept constant throughout the evaluation process. Unlike the dynamic policy iteration where the policy might evolve over time, `model.FP` remains unchanged, making it possible to analyze the performance of a specific policy.\n",
    "\n",
    "### Visualization\n",
    "We also provide a helper function for visualizing the environment, and the utility function. To use it, please run the following. In the figure, \"x\" marks a cell that is occupied by the wall. \"+1\" and \"-1\" mark the terminal states and their rewards."
   ]
  },
  {
   "cell_type": "code",
   "execution_count": 20,
   "metadata": {},
   "outputs": [
    {
     "data": {
      "image/png": "[encoded data removed]",
      "text/plain": [
       "<Figure size 640x480 with 1 Axes>"
      ]
     },
     "metadata": {},
     "output_type": "display_data"
    },
    {
     "name": "stdout",
     "output_type": "stream",
     "text": [
      "0.8\n"
     ]
    }
   ],
   "source": [
    "model.visualize()"
   ]
  },
  {
   "cell_type": "markdown",
   "metadata": {},
   "source": [
    "You can also visualize the utility function. You can visualize the utility function at each iteration to see how it is being updated, which is helpful for debug."
   ]
  },
  {
   "cell_type": "code",
   "execution_count": 5,
   "metadata": {},
   "outputs": [
    {
     "data": {
      "image/png": "[encoded data removed]",
      "text/plain": [
       "<Figure size 640x480 with 1 Axes>"
      ]
     },
     "metadata": {},
     "output_type": "display_data"
    }
   ],
   "source": [
    "import numpy as np\n",
    "U = np.zeros([model.M, model.N])\n",
    "model.visualize(U)"
   ]
  },
  {
   "cell_type": "markdown",
   "metadata": {},
   "source": [
    "### Coordinate system\n",
    "Please be aware of the coordinate system we will use in this MP. In the above visualization, the cell at the upper-left corner is $(0, 0)$, the upper-right is $(0, 3)$, and bottom-left is $(2, 0)$. Moving up means moving from $(r, c)$ to $(r-1, c)$, moving right means from $(r, c)$ to $(r, c+1)$, and so on."
   ]
  },
  {
   "cell_type": "markdown",
   "metadata": {},
   "source": [
    "<a id='section2'></a>\n",
    "## Value iteration\n",
    "As stated in the lecture, the utility of a state $s$ is the best possible expected sum of discounted rewards and denoted by $U(s)$. With value iteration, we can compute this function $U$. The algorithm proceeds as follows.\n",
    "\n",
    "We start with iteration $i = 0$ and simply initialize $U_i(s) = 0$ for all $s$. Then at each iteration, we update $U$ as follows\n",
    "$$\n",
    "U_{i+1}(s) = R(s) + \\gamma \\max_{a} \\sum_{s^\\prime} P(s^\\prime | s, a) U_{i}(s^\\prime).\n",
    "$$\n",
    "\n",
    "We keep doing this until convergence, i.e., when $|U_{i+1}(s) - U_i(s)| < \\epsilon$ for all $s$, where $\\epsilon > 0$ is a constant.\n",
    "\n",
    "In order to implement the algorithm, you need to complete the following functions in ```submitted.py```."
   ]
  },
  {
   "cell_type": "markdown",
   "metadata": {},
   "source": [
    "### Computing the transition matrix $P$\n",
    "\n",
    "First, notice that the transition matrix $P(s' | s, a)$ will be called many times, and it will not change during the value iteration. Thus, it makes sense to precompute it before doing the value iteration. To this end, you need to complete the function ```compute_transition()```. This function takes in the MDP model ```model``` and computes the transition \"matrix\", which is actually an $M \\times N \\times 4 \\times M \\times N$ numpy array ```P```. In this function, you need to consider each state $(r, c)$ and each action $a \\in \\{0\\text{ (left)}, 1\\text{ (up)}, 2\\text{ (right)}, 3\\text{ (down)}\\}$. ```P[r, c, a, r', c']``` should be the probability that the agent will move from cell ```(r, c)``` to ```(r', c')``` if it takes action ```a```. Especially, if ```(r, c)``` is a terminal state, you can simply set ```P[r, c, :, :, :] = 0```, i.e., the probability that the agent move from a terminal state to any state (including itself) is $0$, since once the agent reaches a terminal state, the game is over.\n",
    "\n",
    "You may notice that the transition matrix ```P``` is very sparse, i.e., most of its elements are zeros. Better data structre such as sparse matrices can be used to improve the efficiency. But in this MP, we simply use a regular numpy array.\n",
    "\n",
    "In MP10, you need to account for transition probabilities from wall states (current state is wall), which may have non-zero values, unlike typical scenarios. Logically, walls should not have a transition probability. However, for terminal states, all transition probabilities from them should be zero."
   ]
  },
  {
   "cell_type": "code",
   "execution_count": 6,
   "metadata": {},
   "outputs": [],
   "source": [
    "import numpy as np\n",
    "# P = np.zeros((model.M,model.N,4,model.M,model.N))\n",
    "# P[1,2,0,0,1] = 3\n",
    "# print(P)\n",
    "# print(P[1,2,0,0,1])\n"
   ]
  },
  {
   "cell_type": "code",
   "execution_count": 7,
   "metadata": {},
   "outputs": [
    {
     "name": "stdout",
     "output_type": "stream",
     "text": [
      "Help on function compute_transition in module submitted:\n",
      "\n",
      "compute_transition(model)\n",
      "    Parameters:\n",
      "    model - the MDP model returned by load_MDP()\n",
      "    \n",
      "    Output:\n",
      "    P - An M x N x 4 x M x N numpy array. P[r, c, a, r', c'] is the probability that the agent will move from cell (r, c) to (r', c') if it takes action a, where a is 0 (left), 1 (up), 2 (right), or 3 (down).\n",
      "\n"
     ]
    }
   ],
   "source": [
    "import submitted, importlib\n",
    "importlib.reload(submitted)\n",
    "help(submitted.compute_transition)"
   ]
  },
  {
   "cell_type": "markdown",
   "metadata": {},
   "source": [
    "If you loaded the ```'models/model_small.json'``` MDP in the previous section, you can check some cells in the computed transition matrix to see if it is correct. For example, in the following, we check ```P[1, 0, 2, :, :]```. Recall that this should the probability distribution of the next state if the agent takes the action $2$ (right) at cell $(1, 0)$. Please also keep in mind that cell $(1, 1)$ is occupied by the wall. So, with probability $0.1$ the agent will move up to $(0, 0)$; with probability $0.1$ the agent will move down to $(2, 0)$; with probability $0.8$, it will move as intended (right) but will cause a collision to the wall, and thus the agent will stay at $(1, 0)$ with probability $0.8$."
   ]
  },
  {
   "cell_type": "code",
   "execution_count": 21,
   "metadata": {},
   "outputs": [
    {
     "name": "stdout",
     "output_type": "stream",
     "text": [
      "[[0.1 0.  0.  0. ]\n",
      " [0.  0.8 0.  0. ]\n",
      " [0.1 0.  0.  0. ]]\n",
      "[[False False False False]\n",
      " [False  True False False]\n",
      " [False False False False]]\n"
     ]
    },
    {
     "data": {
      "image/png": "[encoded data removed]",
      "text/plain": [
       "<Figure size 640x480 with 1 Axes>"
      ]
     },
     "metadata": {},
     "output_type": "display_data"
    }
   ],
   "source": [
    "P = submitted.compute_transition(model)\n",
    "print(P[1, 0, 2, :, :])\n",
    "print(model.W)\n",
    "model.visualize()"
   ]
  },
  {
   "cell_type": "markdown",
   "metadata": {},
   "source": [
    "### Updating the utility function\n",
    "\n",
    "Then, you need to complete the function ```compute_utility```, which takes in the current utility function ```U_current``` (corresponding to the $U_i$ in the above equation) and computes the updated utility function ```U_next``` (corresponding to the $U_{i+1}$ in the above equation). This function should implement the update rule (the equation) in the value iteration algorithm."
   ]
  },
  {
   "cell_type": "code",
   "execution_count": 9,
   "metadata": {},
   "outputs": [
    {
     "name": "stdout",
     "output_type": "stream",
     "text": [
      "Help on function compute_utility in module submitted:\n",
      "\n",
      "compute_utility(model, U_current, P)\n",
      "    Parameters:\n",
      "    model - The MDP model returned by load_MDP()\n",
      "    U_current - The current utility function, which is an M x N array\n",
      "    P - The precomputed transition matrix returned by compute_transition()\n",
      "    \n",
      "    Output:\n",
      "    U_next - The updated utility function, which is an M x N array\n",
      "\n"
     ]
    }
   ],
   "source": [
    "importlib.reload(submitted)\n",
    "help(submitted.compute_utility)"
   ]
  },
  {
   "cell_type": "markdown",
   "metadata": {},
   "source": [
    "Since we have represented the transition ```P``` and utility ```U_current``` as numpy arrays. The best way to implement this function is to use vectorization. That is, we can rewrite the update rule as some matrix operations and then use numpy's builtin functions to compute them. For example, the summation in the equation is actually an inner product of $P$ and $U_i$. Using numpy's ```dot``` function to compute this inner product is much faster than implementing it as a for loop. However, using vectorization is totally optional for you. The efficiency of your program will not contribute to your score. You will not get any extra credit even if you indeed use vectorization. So feel free to use for loop since it is much easier to implement."
   ]
  },
  {
   "cell_type": "markdown",
   "metadata": {},
   "source": [
    "### Putting them together\n",
    "\n",
    "Now, you are ready to complete the ```value_iterate``` function, which should first compute the ```P``` but calling ```compute_transition``` and then keeps calling ```compute_utility``` until convergence. Please keep in mind that the convergence criterion is $|U_{i+1}(s) - U_i(s)| < \\epsilon$ for all $s$. In this MP, please use $\\epsilon = 10^{-3}$. In ```submitted.py```, you can find a predefined variable ```epsilon = 1e-3```. Also, please stop the program after a specifc number of iteration even if it has not converged. 100 iterations should be sufficient for all the tests in this MP."
   ]
  },
  {
   "cell_type": "code",
   "execution_count": 10,
   "metadata": {},
   "outputs": [
    {
     "name": "stdout",
     "output_type": "stream",
     "text": [
      "Help on function value_iterate in module submitted:\n",
      "\n",
      "value_iterate(model)\n",
      "    Parameters:\n",
      "    model - The MDP model returned by load_MDP()\n",
      "    \n",
      "    Output:\n",
      "    U - The utility function, which is an M x N array\n",
      "\n"
     ]
    }
   ],
   "source": [
    "importlib.reload(submitted)\n",
    "help(submitted.value_iterate)"
   ]
  },
  {
   "cell_type": "markdown",
   "metadata": {},
   "source": [
    "For the purpose of debugging, you can visualize the utility function at each iteration using the provided ```model.visualize(U_current)``` function to see how the utility is being updated. You can also compare your utility function to the ground truth presented in the slides. For example, the following code visualize the computed utility. You can compare it to the one in the slides."
   ]
  },
  {
   "cell_type": "code",
   "execution_count": 11,
   "metadata": {},
   "outputs": [
    {
     "data": {
      "image/png": "[encoded data removed]",
      "text/plain": [
       "<Figure size 640x480 with 1 Axes>"
      ]
     },
     "metadata": {},
     "output_type": "display_data"
    }
   ],
   "source": [
    "importlib.reload(submitted)\n",
    "U = submitted.value_iterate(model)\n",
    "model.visualize(U)\n"
   ]
  },
  {
   "cell_type": "markdown",
   "metadata": {},
   "source": [
    "<a id='grade'></a>\n",
    "## Grade your homework"
   ]
  },
  {
   "cell_type": "markdown",
   "metadata": {},
   "source": [
    "If you've reached this point, and all of the above sections work, then you're ready to try grading your homework!  Before you submit it to Gradescope, try grading it on your own machine.  This will run some visible test cases (which you can read in `tests/test_visible.py`), and compare the results to the solutions (which you can read in `solution.json`).\n",
    "\n",
    "The exclamation point (!) tells python to run the following as a shell command.  Obviously you don't need to run the code this way -- this usage is here just to remind you that you can also, if you wish, run this command in a terminal window."
   ]
  },
  {
   "cell_type": "code",
   "execution_count": 27,
   "metadata": {},
   "outputs": [
    {
     "name": "stderr",
     "output_type": "stream",
     "text": [
      "....\n",
      "----------------------------------------------------------------------\n",
      "Ran 4 tests in 0.065s\n",
      "\n",
      "OK\n"
     ]
    }
   ],
   "source": [
    "!python grade.py"
   ]
  },
  {
   "cell_type": "markdown",
   "metadata": {},
   "source": [
    "If you got any 'E' marks, it means that your code generated some runtime errors, and you need to debug those.\n",
    "\n",
    "If you got any 'F' marks, it means that your code ran without errors, but that it generated results that are different from the solutions in `solutions.json`.  Try debugging those differences.\n",
    "\n",
    "If neither of those things happened, and your result was a series of dots, then your code works perfectly.  \n",
    "\n",
    "If you're not sure, you can try running grade.py with the -j option.  This will produce a JSON results file, in which the best score you can get is 60."
   ]
  },
  {
   "cell_type": "markdown",
   "metadata": {},
   "source": [
    "Now you should try uploading `submitted.py` to <a href=\"https://www.gradescope.com/courses/701752\">Gradescope</a>.  \n",
    "\n",
    "Gradescope will run the same visible tests that you just ran on your own machine, plus some additional hidden tests.  It's possible that your code passes all the visible tests, but fails the hidden tests.  If that happens, then it probably means that you hard-coded a number into your function definition, instead of using the input parameter that you were supposed to use.  Debug by running your function with a variety of different input parameters, and see if you can get it to respond correctly in all cases.\n",
    "\n",
    "Once your code works perfectly on Gradescope, with no errors, then you are done with the MP.  Congratulations!"
   ]
  },
  {
   "cell_type": "markdown",
   "metadata": {},
   "source": [
    "## Extra Credit: Policy Evaluation Implementation\n",
    "\n",
    "In this section, we extend our MDP solver to include policy evaluation, an essential concept from the lectures. Policy evaluation is a process where we compute the utility of following a given policy.\n",
    "\n",
    "### Fixed Policy Transition Matrix\n",
    "\n",
    "We assume a fixed policy represented by a four-dimensional transition matrix `model.FP[r, c, r', c']`. This matrix provides the probability of transitioning from each state to every other state under the fixed policy. The dimensions correspond to the current state `(r, c)` and the next state `(r', c')`, respectively.  \n",
    "\n",
    "In the previous section, we use value iteration to dynamically choose actions that maximize expected utility, aiming to find the optimal policy. This method continuously updates the policy based on the calculated utilities of states. However, in this section the focus shifts to evaluating the utility of states under a fixed policy, which remains constant throughout the process. This evaluation does not seek to optimize the policy but rather to assess the effectiveness of a given, unchanging strategy.\n",
    "\n"
   ]
  },
  {
   "cell_type": "markdown",
   "metadata": {},
   "source": [
    "### Implementation Overview\n",
    "\n",
    "The `policy_evaluation` function iteratively computes the expected utility of each state under the given policy until the utility function converges. The convergence is determined by a small threshold `epsilon`.\n",
    "\n",
    "The utility of a state under the policy is computed using the following equation as shown in lecture:\n",
    "$$\n",
    "u_i(s) = r(s) + \\gamma \\sum_{s'} P(s' | s, \\pi_i(s)) u_i(s')\n",
    "$$\n",
    "where:\n",
    "- $u_i(s)$ is the utility of state $s$ at iteration $i$.\n",
    "- $r(s)$ is the immediate reward received when entering state $s$.\n",
    "- $\\gamma$ is the discount factor that balances the importance of immediate and future rewards.\n",
    "- $P(s' | s, \\pi_i(s))$ is the transition probability of moving from state $s$ to state $s'$ under policy $\\pi_i$.\n",
    "- The summation is over all possible next states $s'$.\n",
    "\n",
    "During each iteration, for every state `(r, c)`, we calculate the expected utility as the sum of the utilities of all possible next states `(r', c')`, weighted by the transition probabilities from the current state `(r, c)` to the next state `(r', c')`. We then update the utility of the current state with the immediate reward plus the discounted expected utility.\n",
    "\n",
    "It's important to note that the provided policy (encoded in the transition matrix `model.FP` may not necessarily be the optimal policy. It is fixed for the purpose of evaluating how good the policy is in terms of the utility it yields.\n",
    "\n",
    "It may take more than 100 iterations to converge.\n"
   ]
  },
  {
   "cell_type": "code",
   "execution_count": 13,
   "metadata": {},
   "outputs": [
    {
     "name": "stdout",
     "output_type": "stream",
     "text": [
      "Help on function policy_evaluation in module submitted:\n",
      "\n",
      "policy_evaluation(model)\n",
      "    Parameters:\n",
      "    model - The MDP model returned by load_MDP();\n",
      "    \n",
      "    Output:\n",
      "    U - The converged utility function, which is an M x N array\n",
      "\n"
     ]
    }
   ],
   "source": [
    "importlib.reload(submitted)\n",
    "help(submitted.policy_evaluation)"
   ]
  },
  {
   "cell_type": "code",
   "execution_count": 14,
   "metadata": {},
   "outputs": [
    {
     "ename": "RuntimeError",
     "evalue": "You need to write this part!",
     "output_type": "error",
     "traceback": [
      "\u001b[1;31m---------------------------------------------------------------------------\u001b[0m",
      "\u001b[1;31mRuntimeError\u001b[0m                              Traceback (most recent call last)",
      "Cell \u001b[1;32mIn[14], line 2\u001b[0m\n\u001b[0;32m      1\u001b[0m importlib\u001b[38;5;241m.\u001b[39mreload(submitted)\n\u001b[1;32m----> 2\u001b[0m U \u001b[38;5;241m=\u001b[39m \u001b[43msubmitted\u001b[49m\u001b[38;5;241;43m.\u001b[39;49m\u001b[43mpolicy_evaluation\u001b[49m\u001b[43m(\u001b[49m\u001b[43mmodel\u001b[49m\u001b[43m)\u001b[49m\n\u001b[0;32m      3\u001b[0m model\u001b[38;5;241m.\u001b[39mvisualize(U)\n",
      "File \u001b[1;32mc:\\Users\\Azain\\Documents\\College\\Spring 2024\\ECE 448\\mp10\\mp10\\submitted.py:132\u001b[0m, in \u001b[0;36mpolicy_evaluation\u001b[1;34m(model)\u001b[0m\n\u001b[0;32m    124\u001b[0m \u001b[38;5;28;01mdef\u001b[39;00m \u001b[38;5;21mpolicy_evaluation\u001b[39m(model):\n\u001b[0;32m    125\u001b[0m \u001b[38;5;250m    \u001b[39m\u001b[38;5;124;03m'''\u001b[39;00m\n\u001b[0;32m    126\u001b[0m \u001b[38;5;124;03m    Parameters:\u001b[39;00m\n\u001b[0;32m    127\u001b[0m \u001b[38;5;124;03m    model - The MDP model returned by load_MDP();\u001b[39;00m\n\u001b[1;32m   (...)\u001b[0m\n\u001b[0;32m    130\u001b[0m \u001b[38;5;124;03m    U - The converged utility function, which is an M x N array\u001b[39;00m\n\u001b[0;32m    131\u001b[0m \u001b[38;5;124;03m    '''\u001b[39;00m\n\u001b[1;32m--> 132\u001b[0m     \u001b[38;5;28;01mraise\u001b[39;00m \u001b[38;5;167;01mRuntimeError\u001b[39;00m(\u001b[38;5;124m\"\u001b[39m\u001b[38;5;124mYou need to write this part!\u001b[39m\u001b[38;5;124m\"\u001b[39m)\n",
      "\u001b[1;31mRuntimeError\u001b[0m: You need to write this part!"
     ]
    }
   ],
   "source": [
    "importlib.reload(submitted)\n",
    "U = submitted.policy_evaluation(model)\n",
    "model.visualize(U)"
   ]
  },
  {
   "cell_type": "code",
   "execution_count": null,
   "metadata": {},
   "outputs": [
    {
     "name": "stdout",
     "output_type": "stream",
     "text": [
      "..\n",
      "----------------------------------------------------------------------\n",
      "Ran 2 tests in 0.034s\n",
      "\n",
      "OK\n"
     ]
    }
   ],
   "source": [
    "!python grade_extra.py"
   ]
  },
  {
   "cell_type": "markdown",
   "metadata": {},
   "source": [
    "Now you should try uploading `submitted.py` to <a href=\"https://www.gradescope.com/courses/701752\">Gradescope</a>.  \n",
    "Gradescope will run the same visible tests that you just ran on your own machine, plus some additional hidden tests.  It's possible that your code passes all the visible tests, but fails the hidden tests.  If that happens, then it probably means that you hard-coded a number into your function definition, instead of using the input parameter that you were supposed to use.  Debug by running your function with a variety of different input parameters, and see if you can get it to respond correctly in all cases."
   ]
  },
  {
   "cell_type": "markdown",
   "metadata": {},
   "source": []
  }
 ],
 "metadata": {
  "kernelspec": {
   "display_name": "Python 3 (ipykernel)",
   "language": "python",
   "name": "python3"
  },
  "language_info": {
   "codemirror_mode": {
    "name": "ipython",
    "version": 3
   },
   "file_extension": ".py",
   "mimetype": "text/x-python",
   "name": "python",
   "nbconvert_exporter": "python",
   "pygments_lexer": "ipython3",
   "version": "3.10.11"
  },
  "vscode": {
   "interpreter": {
    "hash": "ad2bdc8ecc057115af97d19610ffacc2b4e99fae6737bb82f5d7fb13d2f2c186"
   }
  }
 },
 "nbformat": 4,
 "nbformat_minor": 4
}
